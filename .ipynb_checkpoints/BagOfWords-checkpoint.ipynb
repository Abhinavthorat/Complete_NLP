{
 "cells": [
  {
   "cell_type": "code",
   "execution_count": 1,
   "id": "b2a261da",
   "metadata": {},
   "outputs": [],
   "source": [
    "import nltk\n",
    "import re"
   ]
  },
  {
   "cell_type": "code",
   "execution_count": 2,
   "id": "ef957e7f",
   "metadata": {},
   "outputs": [],
   "source": [
    "with open('corpus.txt','r') as f:\n",
    "    text = ' '.join(f.readlines())"
   ]
  },
  {
   "cell_type": "code",
   "execution_count": 3,
   "id": "f8604a0f",
   "metadata": {},
   "outputs": [
    {
     "data": {
      "text/plain": [
       "'I have three visions for India. In 3000 years of our history, people from all over \\n                the world have come and invaded us, captured our lands, conquered our minds. \\n                From Alexander onwards, the Greeks, the Turks, the Moguls, the Portuguese, the British,\\n                the French, the Dutch, all of them came and looted us, took over what was ours. \\n                Yet we have not done this to any other nation. We have not conquered anyone. \\n                We have not grabbed their land, their culture, \\n                their history and tried to enforce our way of life on them. \\n                Why? Because we respect the freedom of others.That is why my \\n                first vision is that of freedom. I believe that India got its first vision of \\n                this in 1857, when we started the War of Independence. It is this freedom that\\n                we must protect and nurture and build on. If we are not free, no one will respect us.\\n                My second vision for Indiaâ€™s development. For fifty years we have been a developing nation.\\n                It is time we see ourselves as a developed nation. We are among the top 5 nations of the world\\n                in terms of GDP. We have a 10 percent growth rate in most areas. Our poverty levels are falling.\\n                Our achievements are being globally recognised today. Yet we lack the self-confidence to\\n                see ourselves as a developed nation, self-reliant and self-assured. Isnâ€™t this incorrect?\\n                I have a third vision. India must stand up to the world. Because I believe that unless India \\n                stands up to the world, no one will respect us. Only strength respects strength. We must be \\n                strong not only as a military power but also as an economic power. Both must go hand-in-hand. \\n                My good fortune was to have worked with three great minds. Dr. Vikram Sarabhai of the Dept. of \\n                space, Professor Satish Dhawan, who succeeded him and Dr. Brahm Prakash, father of nuclear material.\\n                I was lucky to have worked with all three of them closely and consider this the great opportunity of my life. \\n                I see four milestones in my career'"
      ]
     },
     "execution_count": 3,
     "metadata": {},
     "output_type": "execute_result"
    }
   ],
   "source": [
    "text"
   ]
  },
  {
   "cell_type": "code",
   "execution_count": 8,
   "id": "42964ad4",
   "metadata": {},
   "outputs": [],
   "source": [
    "from nltk import WordNetLemmatizer\n",
    "from nltk import sent_tokenize\n",
    "from nltk.corpus import stopwords"
   ]
  },
  {
   "cell_type": "code",
   "execution_count": 7,
   "id": "fd17654a",
   "metadata": {},
   "outputs": [],
   "source": [
    "Lemmatizer = WordNetLemmatizer()"
   ]
  },
  {
   "cell_type": "code",
   "execution_count": 6,
   "id": "ac7ccc73",
   "metadata": {},
   "outputs": [],
   "source": [
    "sentences = sent_tokenize(text)"
   ]
  },
  {
   "cell_type": "code",
   "execution_count": 11,
   "id": "87c057e4",
   "metadata": {},
   "outputs": [],
   "source": [
    "words_lemm = []\n",
    "\n",
    "for i in range(len(sentences)):\n",
    "    words = re.sub('[^A-Za-z]',' ',sentences[i])\n",
    "    words = words.lower()\n",
    "    words = words.split()\n",
    "    words = [Lemmatizer.lemmatize(word) for word in words if word not in set(stopwords.words('english'))]\n",
    "    words_lemm.append(' '.join(words))"
   ]
  },
  {
   "cell_type": "code",
   "execution_count": 12,
   "id": "bb886694",
   "metadata": {},
   "outputs": [
    {
     "data": {
      "text/plain": [
       "['three vision india',\n",
       " 'year history people world come invaded u captured land conquered mind',\n",
       " 'alexander onwards greek turk mogul portuguese british french dutch came looted u took',\n",
       " 'yet done nation',\n",
       " 'conquered anyone',\n",
       " 'grabbed land culture history tried enforce way life',\n",
       " '',\n",
       " 'respect freedom others first vision freedom',\n",
       " 'believe india got first vision started war independence',\n",
       " 'freedom must protect nurture build',\n",
       " 'free one respect u',\n",
       " 'second vision india development',\n",
       " 'fifty year developing nation',\n",
       " 'time see developed nation',\n",
       " 'among top nation world term gdp',\n",
       " 'percent growth rate area',\n",
       " 'poverty level falling',\n",
       " 'achievement globally recognised today',\n",
       " 'yet lack self confidence see developed nation self reliant self assured',\n",
       " 'incorrect',\n",
       " 'third vision',\n",
       " 'india must stand world',\n",
       " 'believe unless india stand world one respect u',\n",
       " 'strength respect strength',\n",
       " 'must strong military power also economic power',\n",
       " 'must go hand hand',\n",
       " 'good fortune worked three great mind',\n",
       " 'dr vikram sarabhai dept',\n",
       " 'space professor satish dhawan succeeded dr brahm prakash father nuclear material',\n",
       " 'lucky worked three closely consider great opportunity life',\n",
       " 'see four milestone career']"
      ]
     },
     "execution_count": 12,
     "metadata": {},
     "output_type": "execute_result"
    }
   ],
   "source": [
    "words_lemm"
   ]
  },
  {
   "cell_type": "code",
   "execution_count": 13,
   "id": "b33f2eeb",
   "metadata": {},
   "outputs": [],
   "source": [
    "from sklearn.feature_extraction.text import CountVectorizer"
   ]
  },
  {
   "cell_type": "code",
   "execution_count": 14,
   "id": "6f1bfa3b",
   "metadata": {},
   "outputs": [],
   "source": [
    "cv = CountVectorizer()"
   ]
  },
  {
   "cell_type": "code",
   "execution_count": 15,
   "id": "0d6f5ff8",
   "metadata": {},
   "outputs": [],
   "source": [
    "BoW = cv.fit_transform(words_lemm).toarray()"
   ]
  },
  {
   "cell_type": "code",
   "execution_count": 18,
   "id": "bbf495db",
   "metadata": {},
   "outputs": [
    {
     "data": {
      "text/plain": [
       "array([[0, 0, 0, ..., 0, 0, 0],\n",
       "       [0, 0, 0, ..., 1, 1, 0],\n",
       "       [0, 1, 0, ..., 0, 0, 0],\n",
       "       ...,\n",
       "       [0, 0, 0, ..., 0, 0, 0],\n",
       "       [0, 0, 0, ..., 0, 0, 0],\n",
       "       [0, 0, 0, ..., 0, 0, 0]], dtype=int64)"
      ]
     },
     "execution_count": 18,
     "metadata": {},
     "output_type": "execute_result"
    }
   ],
   "source": [
    "BoW"
   ]
  },
  {
   "cell_type": "code",
   "execution_count": null,
   "id": "57e8a780",
   "metadata": {},
   "outputs": [],
   "source": []
  }
 ],
 "metadata": {
  "kernelspec": {
   "display_name": "Python 3 (ipykernel)",
   "language": "python",
   "name": "python3"
  },
  "language_info": {
   "codemirror_mode": {
    "name": "ipython",
    "version": 3
   },
   "file_extension": ".py",
   "mimetype": "text/x-python",
   "name": "python",
   "nbconvert_exporter": "python",
   "pygments_lexer": "ipython3",
   "version": "3.9.7"
  }
 },
 "nbformat": 4,
 "nbformat_minor": 5
}
